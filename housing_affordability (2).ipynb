{
 "cells": [
  {
   "cell_type": "code",
   "execution_count": 17,
   "id": "2234a370-6da5-4b40-b2a2-5484e581e1db",
   "metadata": {},
   "outputs": [],
   "source": [
    "import pandas as pd\n",
    "from sklearn.model_selection import train_test_split\n",
    "from sklearn.ensemble import RandomForestClassifier, GradientBoostingClassifier\n",
    "from sklearn.linear_model import LogisticRegression\n",
    "from sklearn.svm import SVC\n",
    "import warnings\n",
    "warnings.filterwarnings('ignore')\n",
    "from sklearn.metrics import roc_auc_score, precision_score, accuracy_score, mean_absolute_error, mean_squared_error\n",
    "from sklearn.preprocessing import StandardScaler\n",
    "from sklearn.pipeline import Pipeline\n",
    "from sklearn.utils import resample\n",
    "from imblearn.over_sampling import SMOTE\n",
    "from imblearn.under_sampling import RandomUnderSampler\n",
    "from imblearn.pipeline import Pipeline as ImbPipeline\n",
    "import numpy as np\n"
   ]
  },
  {
   "cell_type": "code",
   "execution_count": 2,
   "id": "8220a63a-5e88-4ecf-bfbc-1bf8dc78cf44",
   "metadata": {},
   "outputs": [
    {
     "name": "stdout",
     "output_type": "stream",
     "text": [
      "<class 'pandas.core.frame.DataFrame'>\n",
      "RangeIndex: 1000 entries, 0 to 999\n",
      "Data columns (total 12 columns):\n",
      " #   Column                  Non-Null Count  Dtype  \n",
      "---  ------                  --------------  -----  \n",
      " 0   ID                      1000 non-null   int64  \n",
      " 1   Population_Density      1000 non-null   int64  \n",
      " 2   Age                     1000 non-null   int64  \n",
      " 3   Income                  1000 non-null   float64\n",
      " 4   Home_Price              999 non-null    float64\n",
      " 5   Rental_Price            998 non-null    float64\n",
      " 6   GDP_Per_Capita          999 non-null    float64\n",
      " 7   Unemployment_Rate       1000 non-null   float64\n",
      " 8   Commute_Time            999 non-null    float64\n",
      " 9   Internet_Speed          1000 non-null   float64\n",
      " 10  Crime_Rate              1000 non-null   float64\n",
      " 11  Community_Satisfaction  1000 non-null   float64\n",
      "dtypes: float64(9), int64(3)\n",
      "memory usage: 93.9 KB\n"
     ]
    }
   ],
   "source": [
    "housing_data=pd.read_csv('Housing_Affordability.csv')\n",
    "housing_data.info()"
   ]
  },
  {
   "cell_type": "markdown",
   "id": "6df8b585-1999-4f46-bbbb-3b13155d07da",
   "metadata": {},
   "source": [
    "## Imputation of missing values"
   ]
  },
  {
   "cell_type": "code",
   "execution_count": 3,
   "id": "c947d94c-8715-4751-b2db-9d7b3b67614e",
   "metadata": {},
   "outputs": [],
   "source": [
    "housing_data['Home_Price'].fillna(housing_data['Home_Price'].median(), inplace=True)\n"
   ]
  },
  {
   "cell_type": "code",
   "execution_count": 4,
   "id": "86f79fdb-e807-44ed-92a4-c52e6184e713",
   "metadata": {},
   "outputs": [],
   "source": [
    "housing_data['Rental_Price'].fillna(housing_data['Rental_Price'].median(), inplace=True)\n"
   ]
  },
  {
   "cell_type": "code",
   "execution_count": 5,
   "id": "b9772816-174f-45e3-bc60-f2a041ba101b",
   "metadata": {},
   "outputs": [],
   "source": [
    "housing_data['GDP_Per_Capita'].fillna(housing_data['GDP_Per_Capita'].median(), inplace=True)\n",
    "housing_data['Commute_Time'].fillna(housing_data['Commute_Time'].median(), inplace=True)\n"
   ]
  },
  {
   "cell_type": "markdown",
   "id": "b980676f-5874-4f67-93ac-8068e4c9d7b9",
   "metadata": {},
   "source": [
    "## Feature Engineering"
   ]
  },
  {
   "cell_type": "code",
   "execution_count": 6,
   "id": "5e7096ed-e4fa-4801-a055-6bbdd7570d8a",
   "metadata": {},
   "outputs": [],
   "source": [
    "housing_data['Housing_Affordability_Index'] = (housing_data['Income'] - housing_data['Home_Price']) / housing_data['Income']\n"
   ]
  },
  {
   "cell_type": "code",
   "execution_count": 7,
   "id": "30e448ee-2ade-425b-8a73-c652d994febb",
   "metadata": {},
   "outputs": [],
   "source": [
    "threshold = housing_data['Housing_Affordability_Index'].quantile(0.75)\n",
    "housing_data['Affordable'] = (housing_data['Housing_Affordability_Index'] > threshold).astype(int)\n"
   ]
  },
  {
   "cell_type": "markdown",
   "id": "150d6413-225c-4d95-bb6b-7b14d6961d7e",
   "metadata": {},
   "source": [
    "## Addressing Imbalanced Data and Resampling Techniques"
   ]
  },
  {
   "cell_type": "code",
   "execution_count": 8,
   "id": "dac3b060-d0dc-4936-b756-6dc87d7503a8",
   "metadata": {},
   "outputs": [
    {
     "name": "stdout",
     "output_type": "stream",
     "text": [
      "<class 'pandas.core.frame.DataFrame'>\n",
      "RangeIndex: 1000 entries, 0 to 999\n",
      "Data columns (total 14 columns):\n",
      " #   Column                       Non-Null Count  Dtype  \n",
      "---  ------                       --------------  -----  \n",
      " 0   ID                           1000 non-null   int64  \n",
      " 1   Population_Density           1000 non-null   int64  \n",
      " 2   Age                          1000 non-null   int64  \n",
      " 3   Income                       1000 non-null   float64\n",
      " 4   Home_Price                   1000 non-null   float64\n",
      " 5   Rental_Price                 1000 non-null   float64\n",
      " 6   GDP_Per_Capita               1000 non-null   float64\n",
      " 7   Unemployment_Rate            1000 non-null   float64\n",
      " 8   Commute_Time                 1000 non-null   float64\n",
      " 9   Internet_Speed               1000 non-null   float64\n",
      " 10  Crime_Rate                   1000 non-null   float64\n",
      " 11  Community_Satisfaction       1000 non-null   float64\n",
      " 12  Housing_Affordability_Index  1000 non-null   float64\n",
      " 13  Affordable                   1000 non-null   int32  \n",
      "dtypes: float64(10), int32(1), int64(3)\n",
      "memory usage: 105.6 KB\n"
     ]
    }
   ],
   "source": [
    "housing_data.info()"
   ]
  },
  {
   "cell_type": "code",
   "execution_count": 9,
   "id": "3f42e3be-d782-498c-9fcb-f017331cb659",
   "metadata": {},
   "outputs": [],
   "source": [
    "X = housing_data.drop(['ID', 'Affordable'], axis=1)\n",
    "y=housing_data['Affordable']\n"
   ]
  },
  {
   "cell_type": "code",
   "execution_count": 10,
   "id": "c15f68ab-7bc2-4ef4-8087-ceca82306eff",
   "metadata": {},
   "outputs": [],
   "source": [
    "X_train, X_test, y_train, y_test = train_test_split(X, y, test_size=0.2, random_state=42)\n"
   ]
  },
  {
   "cell_type": "code",
   "execution_count": 11,
   "id": "312656d6-4625-42dd-9583-003c1dc9c584",
   "metadata": {},
   "outputs": [],
   "source": [
    "pipeline = Pipeline([\n",
    "    ('oversample', SMOTE(sampling_strategy=0.5)),  # You can adjust the sampling strategy\n",
    "    ('undersample', RandomUnderSampler(sampling_strategy=0.7))  # You can adjust the sampling strategy\n",
    "])\n"
   ]
  },
  {
   "cell_type": "code",
   "execution_count": 12,
   "id": "c50cdf4d-32e9-4d6d-a1d2-46563eccf42b",
   "metadata": {},
   "outputs": [],
   "source": [
    "X_resampled, y_resampled = pipeline.fit_resample(X_train, y_train)\n"
   ]
  },
  {
   "cell_type": "code",
   "execution_count": 13,
   "id": "8eaf1c20-bb35-4e54-8396-afd6edd5a902",
   "metadata": {},
   "outputs": [
    {
     "data": {
      "text/plain": [
       "(718, 12)"
      ]
     },
     "execution_count": 13,
     "metadata": {},
     "output_type": "execute_result"
    }
   ],
   "source": [
    "X_resampled.shape"
   ]
  },
  {
   "cell_type": "code",
   "execution_count": 14,
   "id": "07c8390a-8676-4bbb-86ba-62588b935ed7",
   "metadata": {},
   "outputs": [
    {
     "data": {
      "text/plain": [
       "(718,)"
      ]
     },
     "execution_count": 14,
     "metadata": {},
     "output_type": "execute_result"
    }
   ],
   "source": [
    "y_resampled.shape"
   ]
  },
  {
   "cell_type": "code",
   "execution_count": 15,
   "id": "4f00ae95-e80c-41df-8eae-e42e81a18536",
   "metadata": {},
   "outputs": [],
   "source": [
    "def evaluate_model(model, X_train, X_test, y_train, y_test):\n",
    "    model.fit(X_train, y_train)\n",
    "    y_pred = model.predict(X_test)\n",
    "\n",
    "    auc_roc = roc_auc_score(y_test, y_pred)\n",
    "    precision = precision_score(y_test, y_pred)\n",
    "    accuracy = accuracy_score(y_test, y_pred)\n",
    "    mae = mean_absolute_error(y_test, y_pred)\n",
    "    mse = mean_squared_error(y_test, y_pred)\n",
    "    rmse = np.sqrt(mse)\n",
    "    mape = np.mean(np.abs((y_test - y_pred) / y_test)) * 100\n",
    "\n",
    "    return auc_roc, precision, accuracy, mae, mse, rmse, mape\n"
   ]
  },
  {
   "cell_type": "markdown",
   "id": "3d67ca13-e1a1-43e7-aa26-3ed19e644102",
   "metadata": {},
   "source": [
    "### Logistic Regression"
   ]
  },
  {
   "cell_type": "code",
   "execution_count": 18,
   "id": "fc21184f-e532-4d49-967c-0d081083bf65",
   "metadata": {},
   "outputs": [
    {
     "name": "stdout",
     "output_type": "stream",
     "text": [
      "\n",
      "Logistic Regression Results:\n",
      "AUC/ROC: 1.0000\n",
      "Precision: 1.0000\n",
      "Accuracy: 1.0000\n",
      "MAE: 0.0000\n",
      "MSE: 0.0000\n",
      "RMSE: 0.0000\n",
      "MAPE: 0.0000%\n"
     ]
    }
   ],
   "source": [
    "logistic_model = LogisticRegression(random_state=42)\n",
    "auc_roc, precision, accuracy, mae, mse, rmse, mape = evaluate_model(logistic_model, X_resampled, X_test, y_resampled, y_test)\n",
    "print(\"\\nLogistic Regression Results:\")\n",
    "print(f\"AUC/ROC: {auc_roc:.4f}\")\n",
    "print(f\"Precision: {precision:.4f}\")\n",
    "print(f\"Accuracy: {accuracy:.4f}\")\n",
    "print(f\"MAE: {mae:.4f}\")\n",
    "print(f\"MSE: {mse:.4f}\")\n",
    "print(f\"RMSE: {rmse:.4f}\")\n",
    "print(f\"MAPE: {mape:.4f}%\")\n",
    "\n"
   ]
  },
  {
   "cell_type": "markdown",
   "id": "2cc35666-067b-4e8b-b39e-b241e826b855",
   "metadata": {},
   "source": [
    "### Random Forest\n"
   ]
  },
  {
   "cell_type": "code",
   "execution_count": 19,
   "id": "1dddfbd9-d684-4404-a494-56d427db45fe",
   "metadata": {},
   "outputs": [
    {
     "name": "stdout",
     "output_type": "stream",
     "text": [
      "\n",
      "Random Forest Results:\n",
      "AUC/ROC: 1.0000\n",
      "Precision: 1.0000\n",
      "Accuracy: 1.0000\n",
      "MAE: 0.0000\n",
      "MSE: 0.0000\n",
      "RMSE: 0.0000\n",
      "MAPE: 0.0000%\n"
     ]
    }
   ],
   "source": [
    "rf_model = RandomForestClassifier(random_state=42)\n",
    "auc_roc, precision, accuracy, mae, mse, rmse, mape = evaluate_model(rf_model, X_resampled, X_test, y_resampled, y_test)\n",
    "print(\"\\nRandom Forest Results:\")\n",
    "print(f\"AUC/ROC: {auc_roc:.4f}\")\n",
    "print(f\"Precision: {precision:.4f}\")\n",
    "print(f\"Accuracy: {accuracy:.4f}\")\n",
    "print(f\"MAE: {mae:.4f}\")\n",
    "print(f\"MSE: {mse:.4f}\")\n",
    "print(f\"RMSE: {rmse:.4f}\")\n",
    "print(f\"MAPE: {mape:.4f}%\")\n"
   ]
  },
  {
   "cell_type": "markdown",
   "id": "75458170-a3af-4f3d-af13-d566550c19a9",
   "metadata": {},
   "source": [
    "### Support Vector Machine (SVM)\n"
   ]
  },
  {
   "cell_type": "code",
   "execution_count": 20,
   "id": "2e206a21-b9f2-4795-8eec-29f25ce6956a",
   "metadata": {},
   "outputs": [
    {
     "name": "stdout",
     "output_type": "stream",
     "text": [
      "\n",
      "Support Vector Machine Results:\n",
      "AUC/ROC: 0.9841\n",
      "Precision: 0.8958\n",
      "Accuracy: 0.9750\n",
      "MAE: 0.0250\n",
      "MSE: 0.0250\n",
      "RMSE: 0.1581\n",
      "MAPE: inf%\n"
     ]
    }
   ],
   "source": [
    "svm_model = SVC(kernel='linear', random_state=42)\n",
    "scaler = StandardScaler()\n",
    "X_resampled_scaled = scaler.fit_transform(X_resampled)\n",
    "X_test_scaled = scaler.transform(X_test)\n",
    "auc_roc, precision, accuracy, mae, mse, rmse, mape = evaluate_model(svm_model, X_resampled_scaled, X_test_scaled, y_resampled, y_test)\n",
    "print(\"\\nSupport Vector Machine Results:\")\n",
    "print(f\"AUC/ROC: {auc_roc:.4f}\")\n",
    "print(f\"Precision: {precision:.4f}\")\n",
    "print(f\"Accuracy: {accuracy:.4f}\")\n",
    "print(f\"MAE: {mae:.4f}\")\n",
    "print(f\"MSE: {mse:.4f}\")\n",
    "print(f\"RMSE: {rmse:.4f}\")\n",
    "print(f\"MAPE: {mape:.4f}%\")\n"
   ]
  },
  {
   "cell_type": "markdown",
   "id": "3cc5fb52-bee7-4ca7-addf-632725aae3ed",
   "metadata": {},
   "source": [
    "### Gradient Boosting\r\n"
   ]
  },
  {
   "cell_type": "code",
   "execution_count": 21,
   "id": "d02086fd-3dff-4419-b369-6cf058703088",
   "metadata": {},
   "outputs": [
    {
     "name": "stdout",
     "output_type": "stream",
     "text": [
      "\n",
      "Gradient Boosting Results:\n",
      "AUC/ROC: 1.0000\n",
      "Precision: 1.0000\n",
      "Accuracy: 1.0000\n",
      "MAE: 0.0000\n",
      "MSE: 0.0000\n",
      "RMSE: 0.0000\n",
      "MAPE: 0.0000%\n"
     ]
    }
   ],
   "source": [
    "gb_model = GradientBoostingClassifier(random_state=42)\n",
    "auc_roc, precision, accuracy, mae, mse, rmse, mape = evaluate_model(gb_model, X_resampled, X_test, y_resampled, y_test)\n",
    "print(\"\\nGradient Boosting Results:\")\n",
    "print(f\"AUC/ROC: {auc_roc:.4f}\")\n",
    "print(f\"Precision: {precision:.4f}\")\n",
    "print(f\"Accuracy: {accuracy:.4f}\")\n",
    "print(f\"MAE: {mae:.4f}\")\n",
    "print(f\"MSE: {mse:.4f}\")\n",
    "print(f\"RMSE: {rmse:.4f}\")\n",
    "print(f\"MAPE: {mape:.4f}%\")\n"
   ]
  },
  {
   "cell_type": "code",
   "execution_count": null,
   "id": "12b111ac-e9c9-467b-9811-7ddc0fb874b9",
   "metadata": {},
   "outputs": [],
   "source": []
  }
 ],
 "metadata": {
  "kernelspec": {
   "display_name": "Python 3 (ipykernel)",
   "language": "python",
   "name": "python3"
  },
  "language_info": {
   "codemirror_mode": {
    "name": "ipython",
    "version": 3
   },
   "file_extension": ".py",
   "mimetype": "text/x-python",
   "name": "python",
   "nbconvert_exporter": "python",
   "pygments_lexer": "ipython3",
   "version": "3.11.6"
  }
 },
 "nbformat": 4,
 "nbformat_minor": 5
}
